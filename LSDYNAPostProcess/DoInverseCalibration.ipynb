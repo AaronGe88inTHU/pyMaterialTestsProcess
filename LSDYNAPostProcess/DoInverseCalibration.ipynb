{
 "cells": [
  {
   "cell_type": "code",
   "execution_count": 1,
   "metadata": {},
   "outputs": [],
   "source": [
    "import numpy as np\n",
    "from scipy import optimize\n",
    "import pandas as pd\n",
    "from collections import namedtuple\n",
    "import os\n",
    "import shutil"
   ]
  },
  {
   "cell_type": "code",
   "execution_count": 10,
   "metadata": {},
   "outputs": [],
   "source": [
    "def read_test_results(fileName):\n",
    "    \"\"\"\n",
    "    ToDO\n",
    "    \"\"\"\n",
    "    tests_dict = {}\n",
    "    excel = pd.ExcelFile(fileName)\n",
    "    for sheet in excel.sheet_names:\n",
    "        df = excel.parse(sheet)\n",
    "        value = df.values\n",
    "        print(sheet)\n",
    "        print(value.shape)\n",
    "        tests_dict[sheet] = value\n",
    "    return tests_dict\n",
    "    \n"
   ]
  },
  {
   "cell_type": "code",
   "execution_count": 9,
   "metadata": {},
   "outputs": [
    {
     "name": "stdout",
     "output_type": "stream",
     "text": "Y\n(22817, 2)\nZ\n(414, 2)\n"
    }
   ],
   "source": [
    "read_test_results('Z.xlsx')"
   ]
  },
  {
   "cell_type": "code",
   "execution_count": 14,
   "metadata": {},
   "outputs": [],
   "source": [
    "def make_curve(A, n):\n",
    "    \"\"\"\n",
    "    ToDO\n",
    "    \"\"\"\n",
    "    lt_zero = np.arange(-1, 0, 0.1)\n",
    "    lt_zero_stress = -0.2 * lt_zero\n",
    "    gt_zero = np.arange(0, 1, 0.01)\n",
    "    gt_zero_stress = A * np.power(gt_zero, n)\n",
    "    x = np.hstack([lt_zero, gt_zero])\n",
    "    y = np.hstack([lt_zero_stress, gt_zero_stress])\n",
    "    return np.hstack([x.reshape(-1,1), y.reshape(-1,1)])"
   ]
  },
  {
   "cell_type": "code",
   "execution_count": 24,
   "metadata": {},
   "outputs": [],
   "source": [
    "def write_curve(fileName, curve, lcid):\n",
    "    \"\"\"\n",
    "    ToDO\n",
    "    \"\"\"\n",
    "    with open(fileName, 'w+') as f:\n",
    "        f.write(\"*KEY_WORD\\n\")\n",
    "        f.write(\"*DEFINE_CURVE\\n\")\n",
    "        f.write(str(int(lcid))+\"\\n\")\n",
    "        f.write(\"$#\\n\")\n",
    "        \n",
    "        for p in curve:\n",
    "            f.write(\"{:.4f}, {:.4f}\\n\".format(p[0], p[1]))\n",
    "\n",
    "        f.write(\"*END\")\n"
   ]
  },
  {
   "cell_type": "code",
   "execution_count": null,
   "metadata": {},
   "outputs": [],
   "source": [
    "def do_calculate(folder_name, copy_files):\n",
    "    os.mkdir(folder_name)\n",
    "    for f in copy_files:\n",
    "        shutil.copy(folder_name, f)\n",
    "    os.chdir(folder_name)\n",
    "    os.c"
   ]
  },
  {
   "cell_type": "code",
   "execution_count": 25,
   "metadata": {},
   "outputs": [],
   "source": [
    "curve = make_curve(200, 2)\n",
    "write_curve('lcbb.k', curve, 5000)"
   ]
  },
  {
   "cell_type": "code",
   "execution_count": null,
   "metadata": {},
   "outputs": [],
   "source": []
  }
 ],
 "metadata": {
  "file_extension": ".py",
  "kernelspec": {
   "display_name": "Python 3.7.4 64-bit ('base': conda)",
   "language": "python",
   "name": "python37464bitbaseconda13d815f8f7e449cd97cdc6d0fc9c87fc"
  },
  "language_info": {
   "codemirror_mode": {
    "name": "ipython",
    "version": 3
   },
   "file_extension": ".py",
   "mimetype": "text/x-python",
   "name": "python",
   "nbconvert_exporter": "python",
   "pygments_lexer": "ipython3",
   "version": "3.7.4-final"
  },
  "mimetype": "text/x-python",
  "name": "python",
  "npconvert_exporter": "python",
  "pygments_lexer": "ipython3",
  "version": 3
 },
 "nbformat": 4,
 "nbformat_minor": 2
}