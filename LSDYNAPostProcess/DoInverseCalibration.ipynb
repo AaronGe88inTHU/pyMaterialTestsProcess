{
 "cells": [
  {
   "cell_type": "code",
   "execution_count": 8,
   "metadata": {},
   "outputs": [],
   "source": [
    "import numpy as np\n",
    "from scipy import optimize, interpolate\n",
    "import pandas as pd\n",
    "from collections import namedtuple\n",
    "import os\n",
    "import shutil\n",
    "import rwforcReader, rbdoutReader"
   ]
  },
  {
   "cell_type": "code",
   "execution_count": 9,
   "metadata": {},
   "outputs": [],
   "source": [
    "def read_test_results(fileName):\n",
    "    \"\"\"\n",
    "    ToDO\n",
    "    \"\"\"\n",
    "    tests_dict = {}\n",
    "    excel = pd.ExcelFile(fileName)\n",
    "    for sheet in excel.sheet_names:\n",
    "        df = excel.parse(sheet)\n",
    "        value = df.values\n",
    "        #print(sheet)\n",
    "        #print(value.shape)\n",
    "        tests_dict[sheet] = value\n",
    "    return tests_dict\n",
    "    \n"
   ]
  },
  {
   "cell_type": "code",
   "execution_count": 10,
   "metadata": {},
   "outputs": [],
   "source": [
    "test = read_test_results('Z.xlsx')"
   ]
  },
  {
   "cell_type": "code",
   "execution_count": 11,
   "metadata": {},
   "outputs": [],
   "source": [
    "def make_curve(A, n):\n",
    "    \"\"\"\n",
    "    TODO\n",
    "    \"\"\"\n",
    "    lt_zero = np.arange(-1, 0, 0.1)\n",
    "    lt_zero_stress = -0.2 * lt_zero\n",
    "    gt_zero = np.arange(0, 1, 0.01)\n",
    "    gt_zero_stress = A * np.power(gt_zero, n)\n",
    "    x = np.hstack([lt_zero, gt_zero])\n",
    "    y = np.hstack([lt_zero_stress, gt_zero_stress])\n",
    "    return np.hstack([x.reshape(-1,1), y.reshape(-1,1)])"
   ]
  },
  {
   "cell_type": "code",
   "execution_count": 12,
   "metadata": {},
   "outputs": [],
   "source": [
    "def write_curve(fileName, curve, lcid):\n",
    "    \"\"\"\n",
    "    TODO\n",
    "    \"\"\"\n",
    "    with open(fileName, 'w+') as f:\n",
    "        f.write(\"*KEYWORD\\n\")\n",
    "        f.write(\"*DEFINE_CURVE\\n\")\n",
    "        f.write(\"{0}\".format(str(int(lcid)))+\"\\n\")\n",
    "        f.write(\"$#\\n\")\n",
    "        \n",
    "        for p in curve:\n",
    "            f.write(\"{:.4f}, {:.4f}\\n\".format(p[0], p[1]))\n",
    "\n",
    "        f.write(\"*END\")\n"
   ]
  },
  {
   "cell_type": "code",
   "execution_count": 13,
   "metadata": {},
   "outputs": [],
   "source": [
    "def prepare_files(folder_name, files):\n",
    "    \"\"\"\n",
    "    TODO\n",
    "    \"\"\"\n",
    "    if not os.path.exists(folder_name):\n",
    "        os.mkdir(folder_name)\n",
    "    for f in files:\n",
    "        shutil.copy(os.path.join(owd,f), os.path.join(owd, folder_name, f))#os.path.join(owd,folder_name,f), os.path.join(owd,f))\n",
    "    os.chdir(folder_name)\n",
    "    "
   ]
  },
  {
   "cell_type": "code",
   "execution_count": 14,
   "metadata": {},
   "outputs": [],
   "source": [
    "def execute_calculation(exe_path, main_file):\n",
    "    os.system(exe_path + \" i=\" + main_file + \" NCPU=8 Memory=2000m\")\n",
    "    os.chdir"
   ]
  },
  {
   "cell_type": "code",
   "execution_count": 15,
   "metadata": {},
   "outputs": [],
   "source": [
    "def get_result(rgb_id, rw_id):\n",
    "    rwf = rwforcReader.rwforcReader('JellyRoll_Z.rwforc')\n",
    "    #print(res[0][\"1\"])# \n",
    "    rbd = rbdoutReader.rbdoutReader('JellyRoll_Z.rbdout')\n",
    "    # print(res[0]['time'], res[1]['2'])\n",
    "    d_x = np.array(rbd[1][str(rgb_id)]).reshape(-1, 1)\n",
    "    forc = np.array(rwf[1][str(rw_id)]).reshape(-1, 1)\n",
    "    assert d_x.shape[0] == forc.shape[0]\n",
    "    return np.hstack([d_x, forc])"
   ]
  },
  {
   "cell_type": "code",
   "execution_count": 16,
   "metadata": {},
   "outputs": [],
   "source": [
    "def func_simulation(param):\n",
    "    \"\"\"\n",
    "    TODO\n",
    "    \"\"\"\n",
    "    global cur_num\n",
    "    with open (\"param.txt\", \"a+\") as f:\n",
    "        f.write(\"{0:d},{1:.4f},{2:.4f}\\n\".format(cur_num, param[0], param[1]))\n",
    "    curve = make_curve(param[0], param[1])\n",
    "    prepare_files(str(cur_num), ['JellyRoll.blk', 'JellyRoll.mat', 'JellyRoll_punch.dyn'])\n",
    "    write_curve('2100.k', curve, 2100)\n",
    "    #execute_calculation('D:\\LSDYNA\\program\\ls-dyna_smp_s_R11_0_winx64_ifort131.exe', 'JellyRoll_punch.dyn')\n",
    "    simu = get_result(2, 3)\n",
    "    print(simu)\n",
    "    os.chdir(owd)\n",
    "    cur_num += 1\n",
    "    return simu\n",
    "\n",
    "def err_func(param, test):\n",
    "    print(test)\n",
    "    simu = func_simulation(param)\n",
    "    funcSim = interpolate.interp1d(simu[:,0], simu[:,1], bounds_error=False)\n",
    "    funcTest = interpolate.interp1d(test['Y'][:,0], test['Y'][:,1], bounds_error=False)\n",
    "    if np.max(test['Y'][:,0]) > np.max(simu[:,0]):\n",
    "        top = np.max(simu[:,0])\n",
    "    else:\n",
    "        top = np.max(test['Y'][:,0])\n",
    "    #print(top)\n",
    "    if np.min(test['Y'][:,0]) > np.min(simu[:,0]):\n",
    "        lower = np.min(test[\"Y\"][:,0])\n",
    "    else:\n",
    "        lower = np.min(simu[:,0])\n",
    "    \n",
    "    inter_sim = funcSim(np.arange(lower,top, 0.001))\n",
    "    inter_test = funcTest(np.arange(lower,top, 0.001))\n",
    "    print(inter_sim)\n",
    "    return inter_sim - inter_test\n",
    "\n",
    "\n",
    "def do_inverse(test):\n",
    "    \"\"\"\n",
    "    TODO\n",
    "    \"\"\"\n",
    "    try:\n",
    "        res = optimize.leastsq(err_func, (300, 1.5), args=[test], epsfcn=0.01)\n",
    "        print(res)\n",
    "    except ValueError as e:\n",
    "        print(res)\n",
    "    finally:\n",
    "        os.chdir(owd)\n",
    "    return res\n",
    "\n"
   ]
  },
  {
   "cell_type": "code",
   "execution_count": 17,
   "metadata": {},
   "outputs": [
    {
     "name": "stdout",
     "output_type": "stream",
     "text": [
      "{'Y': array([[1.720000e-03, 7.290000e+01],\n",
      "       [3.430000e-03, 7.190000e+01],\n",
      "       [6.030000e-03, 7.190000e+01],\n",
      "       ...,\n",
      "       [3.718646e+01, 2.375340e+04],\n",
      "       [3.718783e+01, 2.375340e+04],\n",
      "       [3.718987e+01, 2.375450e+04]])}\n"
     ]
    },
    {
     "ename": "FileNotFoundError",
     "evalue": "[Errno 2] No such file or directory: 'JellyRoll_Z.rwforc'",
     "output_type": "error",
     "traceback": [
      "\u001b[1;31m---------------------------------------------------------------------------\u001b[0m",
      "\u001b[1;31mFileNotFoundError\u001b[0m                         Traceback (most recent call last)",
      "\u001b[1;32m<ipython-input-17-0943ae9c5165>\u001b[0m in \u001b[0;36m<module>\u001b[1;34m()\u001b[0m\n\u001b[0;32m      1\u001b[0m \u001b[0mcur_num\u001b[0m \u001b[1;33m=\u001b[0m \u001b[1;36m1\u001b[0m\u001b[1;33m\u001b[0m\u001b[0m\n\u001b[0;32m      2\u001b[0m \u001b[0mowd\u001b[0m \u001b[1;33m=\u001b[0m \u001b[0mos\u001b[0m\u001b[1;33m.\u001b[0m\u001b[0mgetcwd\u001b[0m\u001b[1;33m(\u001b[0m\u001b[1;33m)\u001b[0m\u001b[1;33m\u001b[0m\u001b[0m\n\u001b[1;32m----> 3\u001b[1;33m \u001b[0merr_func\u001b[0m\u001b[1;33m(\u001b[0m\u001b[1;33m(\u001b[0m\u001b[1;36m200\u001b[0m\u001b[1;33m,\u001b[0m\u001b[1;36m1\u001b[0m\u001b[1;33m)\u001b[0m\u001b[1;33m,\u001b[0m \u001b[0mtest\u001b[0m\u001b[1;33m)\u001b[0m\u001b[1;33m\u001b[0m\u001b[0m\n\u001b[0m",
      "\u001b[1;32m<ipython-input-16-ba85aa1f69ab>\u001b[0m in \u001b[0;36merr_func\u001b[1;34m(param, test)\u001b[0m\n\u001b[0;32m     16\u001b[0m \u001b[1;32mdef\u001b[0m \u001b[0merr_func\u001b[0m\u001b[1;33m(\u001b[0m\u001b[0mparam\u001b[0m\u001b[1;33m,\u001b[0m \u001b[0mtest\u001b[0m\u001b[1;33m)\u001b[0m\u001b[1;33m:\u001b[0m\u001b[1;33m\u001b[0m\u001b[0m\n\u001b[0;32m     17\u001b[0m     \u001b[0mprint\u001b[0m\u001b[1;33m(\u001b[0m\u001b[0mtest\u001b[0m\u001b[1;33m)\u001b[0m\u001b[1;33m\u001b[0m\u001b[0m\n\u001b[1;32m---> 18\u001b[1;33m     \u001b[0msimu\u001b[0m \u001b[1;33m=\u001b[0m \u001b[0mfunc_simulation\u001b[0m\u001b[1;33m(\u001b[0m\u001b[0mparam\u001b[0m\u001b[1;33m)\u001b[0m\u001b[1;33m\u001b[0m\u001b[0m\n\u001b[0m\u001b[0;32m     19\u001b[0m     \u001b[0mfuncSim\u001b[0m \u001b[1;33m=\u001b[0m \u001b[0minterpolate\u001b[0m\u001b[1;33m.\u001b[0m\u001b[0minterp1d\u001b[0m\u001b[1;33m(\u001b[0m\u001b[0msimu\u001b[0m\u001b[1;33m[\u001b[0m\u001b[1;33m:\u001b[0m\u001b[1;33m,\u001b[0m\u001b[1;36m0\u001b[0m\u001b[1;33m]\u001b[0m\u001b[1;33m,\u001b[0m \u001b[0msimu\u001b[0m\u001b[1;33m[\u001b[0m\u001b[1;33m:\u001b[0m\u001b[1;33m,\u001b[0m\u001b[1;36m1\u001b[0m\u001b[1;33m]\u001b[0m\u001b[1;33m,\u001b[0m \u001b[0mbounds_error\u001b[0m\u001b[1;33m=\u001b[0m\u001b[1;32mFalse\u001b[0m\u001b[1;33m)\u001b[0m\u001b[1;33m\u001b[0m\u001b[0m\n\u001b[0;32m     20\u001b[0m     \u001b[0mfuncTest\u001b[0m \u001b[1;33m=\u001b[0m \u001b[0minterpolate\u001b[0m\u001b[1;33m.\u001b[0m\u001b[0minterp1d\u001b[0m\u001b[1;33m(\u001b[0m\u001b[0mtest\u001b[0m\u001b[1;33m[\u001b[0m\u001b[1;34m'Y'\u001b[0m\u001b[1;33m]\u001b[0m\u001b[1;33m[\u001b[0m\u001b[1;33m:\u001b[0m\u001b[1;33m,\u001b[0m\u001b[1;36m0\u001b[0m\u001b[1;33m]\u001b[0m\u001b[1;33m,\u001b[0m \u001b[0mtest\u001b[0m\u001b[1;33m[\u001b[0m\u001b[1;34m'Y'\u001b[0m\u001b[1;33m]\u001b[0m\u001b[1;33m[\u001b[0m\u001b[1;33m:\u001b[0m\u001b[1;33m,\u001b[0m\u001b[1;36m1\u001b[0m\u001b[1;33m]\u001b[0m\u001b[1;33m,\u001b[0m \u001b[0mbounds_error\u001b[0m\u001b[1;33m=\u001b[0m\u001b[1;32mFalse\u001b[0m\u001b[1;33m)\u001b[0m\u001b[1;33m\u001b[0m\u001b[0m\n",
      "\u001b[1;32m<ipython-input-16-ba85aa1f69ab>\u001b[0m in \u001b[0;36mfunc_simulation\u001b[1;34m(param)\u001b[0m\n\u001b[0;32m      8\u001b[0m     \u001b[0mwrite_curve\u001b[0m\u001b[1;33m(\u001b[0m\u001b[1;34m'2100.k'\u001b[0m\u001b[1;33m,\u001b[0m \u001b[0mcurve\u001b[0m\u001b[1;33m,\u001b[0m \u001b[1;36m2100\u001b[0m\u001b[1;33m)\u001b[0m\u001b[1;33m\u001b[0m\u001b[0m\n\u001b[0;32m      9\u001b[0m     \u001b[1;31m#execute_calculation('D:\\LSDYNA\\program\\ls-dyna_smp_s_R11_0_winx64_ifort131.exe', 'JellyRoll_punch.dyn')\u001b[0m\u001b[1;33m\u001b[0m\u001b[1;33m\u001b[0m\u001b[0m\n\u001b[1;32m---> 10\u001b[1;33m     \u001b[0msimu\u001b[0m \u001b[1;33m=\u001b[0m \u001b[0mget_result\u001b[0m\u001b[1;33m(\u001b[0m\u001b[1;36m2\u001b[0m\u001b[1;33m,\u001b[0m \u001b[1;36m3\u001b[0m\u001b[1;33m)\u001b[0m\u001b[1;33m\u001b[0m\u001b[0m\n\u001b[0m\u001b[0;32m     11\u001b[0m     \u001b[0mprint\u001b[0m\u001b[1;33m(\u001b[0m\u001b[0msimu\u001b[0m\u001b[1;33m)\u001b[0m\u001b[1;33m\u001b[0m\u001b[0m\n\u001b[0;32m     12\u001b[0m     \u001b[0mos\u001b[0m\u001b[1;33m.\u001b[0m\u001b[0mchdir\u001b[0m\u001b[1;33m(\u001b[0m\u001b[0mowd\u001b[0m\u001b[1;33m)\u001b[0m\u001b[1;33m\u001b[0m\u001b[0m\n",
      "\u001b[1;32m<ipython-input-15-73efeb775268>\u001b[0m in \u001b[0;36mget_result\u001b[1;34m(rgb_id, rw_id)\u001b[0m\n\u001b[0;32m      1\u001b[0m \u001b[1;32mdef\u001b[0m \u001b[0mget_result\u001b[0m\u001b[1;33m(\u001b[0m\u001b[0mrgb_id\u001b[0m\u001b[1;33m,\u001b[0m \u001b[0mrw_id\u001b[0m\u001b[1;33m)\u001b[0m\u001b[1;33m:\u001b[0m\u001b[1;33m\u001b[0m\u001b[0m\n\u001b[1;32m----> 2\u001b[1;33m     \u001b[0mrwf\u001b[0m \u001b[1;33m=\u001b[0m \u001b[0mrwforcReader\u001b[0m\u001b[1;33m.\u001b[0m\u001b[0mrwforcReader\u001b[0m\u001b[1;33m(\u001b[0m\u001b[1;34m'JellyRoll_Z.rwforc'\u001b[0m\u001b[1;33m)\u001b[0m\u001b[1;33m\u001b[0m\u001b[0m\n\u001b[0m\u001b[0;32m      3\u001b[0m     \u001b[1;31m#print(res[0][\"1\"])#\u001b[0m\u001b[1;33m\u001b[0m\u001b[1;33m\u001b[0m\u001b[0m\n\u001b[0;32m      4\u001b[0m     \u001b[0mrbd\u001b[0m \u001b[1;33m=\u001b[0m \u001b[0mrbdoutReader\u001b[0m\u001b[1;33m.\u001b[0m\u001b[0mrbdoutReader\u001b[0m\u001b[1;33m(\u001b[0m\u001b[1;34m'JellyRoll_Z.rbdout'\u001b[0m\u001b[1;33m)\u001b[0m\u001b[1;33m\u001b[0m\u001b[0m\n\u001b[0;32m      5\u001b[0m     \u001b[1;31m# print(res[0]['time'], res[1]['2'])\u001b[0m\u001b[1;33m\u001b[0m\u001b[1;33m\u001b[0m\u001b[0m\n",
      "\u001b[1;32m~\\Documents\\GitHub\\pyMaterialTestsProcess\\LSDYNAPostProcess\\rwforcReader.py\u001b[0m in \u001b[0;36mrwforcReader\u001b[1;34m(fileName)\u001b[0m\n\u001b[0;32m     10\u001b[0m     \u001b[0mz_f\u001b[0m \u001b[1;33m=\u001b[0m \u001b[0mdefaultdict\u001b[0m\u001b[1;33m(\u001b[0m\u001b[0mlist\u001b[0m\u001b[1;33m)\u001b[0m\u001b[1;33m\u001b[0m\u001b[0m\n\u001b[0;32m     11\u001b[0m \u001b[1;33m\u001b[0m\u001b[0m\n\u001b[1;32m---> 12\u001b[1;33m     \u001b[1;32mwith\u001b[0m \u001b[0mopen\u001b[0m\u001b[1;33m(\u001b[0m\u001b[0mfileName\u001b[0m\u001b[1;33m,\u001b[0m \u001b[1;34m'r+'\u001b[0m\u001b[1;33m)\u001b[0m \u001b[1;32mas\u001b[0m \u001b[0mf\u001b[0m\u001b[1;33m:\u001b[0m\u001b[1;33m\u001b[0m\u001b[0m\n\u001b[0m\u001b[0;32m     13\u001b[0m         \u001b[1;31m#lineCount = len(f.readlines())\u001b[0m\u001b[1;33m\u001b[0m\u001b[1;33m\u001b[0m\u001b[0m\n\u001b[0;32m     14\u001b[0m         \u001b[1;31m#for ii in range(0, 100)\u001b[0m\u001b[1;33m\u001b[0m\u001b[1;33m\u001b[0m\u001b[0m\n",
      "\u001b[1;31mFileNotFoundError\u001b[0m: [Errno 2] No such file or directory: 'JellyRoll_Z.rwforc'"
     ]
    }
   ],
   "source": [
    "cur_num = 1\n",
    "owd = os.getcwd()\n",
    "err_func((200,1), test)"
   ]
  },
  {
   "cell_type": "code",
   "execution_count": null,
   "metadata": {},
   "outputs": [],
   "source": [
    "\n"
   ]
  }
 ],
 "metadata": {
  "file_extension": ".py",
  "kernelspec": {
   "display_name": "Python 3",
   "language": "python",
   "name": "python3"
  },
  "language_info": {
   "codemirror_mode": {
    "name": "ipython",
    "version": 3
   },
   "file_extension": ".py",
   "mimetype": "text/x-python",
   "name": "python",
   "nbconvert_exporter": "python",
   "pygments_lexer": "ipython3",
   "version": "3.6.4"
  },
  "mimetype": "text/x-python",
  "name": "python",
  "npconvert_exporter": "python",
  "pygments_lexer": "ipython3",
  "version": 3
 },
 "nbformat": 4,
 "nbformat_minor": 2
}
