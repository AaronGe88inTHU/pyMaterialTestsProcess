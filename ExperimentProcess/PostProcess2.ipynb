{
 "cells": [
  {
   "cell_type": "code",
   "execution_count": 1,
   "metadata": {},
   "outputs": [],
   "source": [
    "import numpy as np\n",
    "from ReadFile import readTestInfo\n",
    "from matplotlib import pyplot as plt\n",
    "import pandas as pd"
   ]
  },
  {
   "cell_type": "code",
   "execution_count": 2,
   "metadata": {},
   "outputs": [],
   "source": [
    "def strainStress(fileName, width, thick):\n",
    "    e1 = readTestInfo(fileName, 'strain.csv', 'e1')\n",
    "    e2 = readTestInfo(fileName, 'strain.csv', 'e2')\n",
    "    em = readTestInfo(fileName, 'strain.csv', 'e_vonmises')\n",
    "    \n",
    "    def trueStrain(force, e1, width, thick):\n",
    "        return force / (width * thick) * (1 + e1)\n",
    "\n",
    "    sig = trueStrain(e1[:, 2], e1[:, 1], width, thick)\n",
    "    result = np.hstack([e1[:,1].reshape(-1,1), e2[:,1].reshape(-1,1), em[:, 1].reshape(-1,1), sig.reshape(-1,1)])\n",
    "    plt.plot(result[:,0], result[:,3])\n",
    "    plt.show()\n",
    "\n",
    "    df = pd.DataFrame(result, columns=['e1','e2','em', 'sig'])\n",
    "    df.to_excel('harden.xlsx','1')"
   ]
  },
  {
   "cell_type": "code",
   "execution_count": 3,
   "metadata": {},
   "outputs": [
    {
     "data": {
      "image/png": "[encoded data removed]",
      "text/plain": [
       "<Figure size 432x288 with 1 Axes>"
      ]
     },
     "metadata": {
      "needs_background": "light"
     },
     "output_type": "display_data"
    }
   ],
   "source": [
    "strainStress('feruco_16.xlsx', 10.155, 2.327)"
   ]
  },
  {
   "cell_type": "code",
   "execution_count": null,
   "metadata": {},
   "outputs": [],
   "source": []
  },
  {
   "cell_type": "code",
   "execution_count": 19,
   "metadata": {},
   "outputs": [],
   "source": []
  },
  {
   "cell_type": "code",
   "execution_count": 21,
   "metadata": {},
   "outputs": [],
   "source": []
  },
  {
   "cell_type": "code",
   "execution_count": null,
   "metadata": {},
   "outputs": [],
   "source": []
  },
  {
   "cell_type": "code",
   "execution_count": 22,
   "metadata": {},
   "outputs": [
    {
     "data": {
      "text/plain": [
       "(564, 4)"
      ]
     },
     "execution_count": 22,
     "metadata": {},
     "output_type": "execute_result"
    }
   ],
   "source": []
  },
  {
   "cell_type": "code",
   "execution_count": 23,
   "metadata": {},
   "outputs": [
    {
     "data": {
      "text/plain": [
       "<function matplotlib.pyplot.show(*args, **kw)>"
      ]
     },
     "execution_count": 23,
     "metadata": {},
     "output_type": "execute_result"
    },
    {
     "data": {
      "image/png": "[encoded data removed]",
      "text/plain": [
       "<Figure size 432x288 with 1 Axes>"
      ]
     },
     "metadata": {
      "needs_background": "light"
     },
     "output_type": "display_data"
    }
   ],
   "source": []
  },
  {
   "cell_type": "code",
   "execution_count": 24,
   "metadata": {},
   "outputs": [
    {
     "data": {
      "text/plain": [
       "array([[ 0.00000000e+00,  0.00000000e+00,  0.00000000e+00,\n",
       "         9.39188458e-02],\n",
       "       [ 5.90110726e-06, -2.63672811e-05,  3.23526709e-05,\n",
       "         9.25687095e-02],\n",
       "       [ 1.18022145e-05, -5.27345622e-05,  6.47053418e-05,\n",
       "         9.52279850e-02],\n",
       "       ...,\n",
       "       [ 4.64521564e-02, -1.99917200e-02,  5.90441694e-02,\n",
       "         2.10417149e+02],\n",
       "       [ 4.64519958e-02, -1.99917166e-02,  5.90440108e-02,\n",
       "         2.10414148e+02],\n",
       "       [ 4.64518353e-02, -1.99917131e-02,  5.90438522e-02,\n",
       "         2.10411399e+02]])"
      ]
     },
     "execution_count": 24,
     "metadata": {},
     "output_type": "execute_result"
    }
   ],
   "source": []
  },
  {
   "cell_type": "code",
   "execution_count": 25,
   "metadata": {},
   "outputs": [],
   "source": []
  },
  {
   "cell_type": "code",
   "execution_count": null,
   "metadata": {},
   "outputs": [],
   "source": []
  }
 ],
 "metadata": {
  "kernelspec": {
   "display_name": "Python 3",
   "language": "python",
   "name": "python3"
  },
  "language_info": {
   "codemirror_mode": {
    "name": "ipython",
    "version": 3
   },
   "file_extension": ".py",
   "mimetype": "text/x-python",
   "name": "python",
   "nbconvert_exporter": "python",
   "pygments_lexer": "ipython3",
   "version": "3.6.4"
  }
 },
 "nbformat": 4,
 "nbformat_minor": 2
}
