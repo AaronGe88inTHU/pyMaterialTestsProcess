{
 "cells": [
  {
   "cell_type": "code",
   "execution_count": 82,
   "metadata": {},
   "outputs": [],
   "source": [
    "import numpy as np\n",
    "import pandas as pd\n",
    "import os\n"
   ]
  },
  {
   "cell_type": "code",
   "execution_count": 83,
   "metadata": {},
   "outputs": [],
   "source": [
    "def readStress(cwd):\n",
    "    fileNames = os.listdir(cwd)\n",
    "    if not ('1.csv' in fileNames and '2.csv' in fileNames and '3.csv' in fileNames):\n",
    "        raise ValueError('No files')\n",
    "    sigma1 = pd.read_csv(os.path.join(cwd, '1.csv')).values[:, 1] * 1000\n",
    "    sigma2 = pd.read_csv(os.path.join(cwd, '2.csv')).values[:, 1] * 1000\n",
    "    sigma3 = pd.read_csv(os.path.join(cwd, '3.csv')).values[:, 1] * 1000\n",
    "    #\n",
    "    \n",
    "    #sigma1 = sigma1[np.where(~np.isnan(sigma1))].reshape(-1, 2)[:, 1] * 1000\n",
    "    #sigma2 = sigma2[np.where(~np.isnan(sigma2))].reshape(-1, 2)[:, 1] * 1000\n",
    "    #sigma3 = sigma3[np.where(~np.isnan(sigma3))].reshape(-1, 2)[:, 1] * 1000\n",
    "    #\n",
    "   \n",
    "    if not sigma1.shape == sigma2.shape and sigma2.shape == sigma3.shape:\n",
    "        raise ValueError('Not Equit')\n",
    "    return sigma1, sigma2 , sigma3"
   ]
  },
  {
   "cell_type": "code",
   "execution_count": 84,
   "metadata": {},
   "outputs": [],
   "source": [
    "sigma1, sigma2, sigma3 = readStress('/Volumes/Install mac/static shear')"
   ]
  },
  {
   "cell_type": "code",
   "execution_count": 85,
   "metadata": {},
   "outputs": [
    {
     "data": {
      "text/plain": [
       "array([     0.        ,      0.        ,      0.        , ...,\n",
       "       332303.22443131, 332315.26182974, 332322.87710076])"
      ]
     },
     "execution_count": 85,
     "metadata": {},
     "output_type": "execute_result"
    }
   ],
   "source": [
    "def devInvarient2(sigma1, sigma2, sigma3):\n",
    "    if np.any(np.isnan(sigma1)):\n",
    "        print(np.where(np.isnan(sigma1)))\n",
    "        if np.any(np.isnan(sigma2)):\n",
    "            print(np.where(np.isnan(sigma2)))\n",
    "            if np.any(np.isnan(sigma3)):\n",
    "                print(np.where(np.isnan(sigma3)))\n",
    "        notnan1 = np.where(~np.isnan(sigma1))\n",
    "        sigma1, sigma2, sigma3 = sigma1[notnan1], sigma2[notnan1], sigma3[notnan1]\n",
    "        notnan2 = np.where(~np.isnan(sigma2))\n",
    "        sigma1, sigma2, sigma3 = sigma1[notnan2], sigma2[notnan2], sigma3[notnan2]\n",
    "        notnan3 = np.where(~np.isnan(sigma3))\n",
    "        sigma1, sigma2, sigma3 = sigma1[notnan3], sigma2[notnan3], sigma3[notnan3]\n",
    "    \n",
    "    #if np.any(sigma1) or np.any(sigma2) or np.any(sigma3):\n",
    "    #    raise ValueError('non')\n",
    "    \n",
    "    c1 = np.power(sigma1 - sigma2, 2)\n",
    "    c2 = np.power(sigma2 - sigma3, 2)\n",
    "    c3 = np.power(sigma1 - sigma3, 2)\n",
    "    \n",
    "    #print(c1, c2 ,c3)\n",
    "    J2 = (c1 + c2 + c3) / 6\n",
    "    if np.any(np.isnan(J2)):\n",
    "        raise ValueError('Nan Error')\n",
    "    return J2\n",
    "\n",
    "\n",
    "J2 = devInvarient2(sigma1, sigma2, sigma3)\n",
    "J2"
   ]
  },
  {
   "cell_type": "code",
   "execution_count": 86,
   "metadata": {},
   "outputs": [],
   "source": [
    "def vonMises(J2):\n",
    "    J2\n",
    "    return np.sqrt(3 * J2)\n",
    "\n",
    "vm = vonMises(J2)"
   ]
  },
  {
   "cell_type": "code",
   "execution_count": 87,
   "metadata": {},
   "outputs": [],
   "source": [
    "def hydroPressure(sigma1, sigma2, sigma3):\n",
    "    I1_3 = (sigma1 + sigma2 + sigma3)\n",
    "    return I1_3 / 3\n",
    "hp = hydroPressure(sigma1, sigma2, sigma3)"
   ]
  },
  {
   "cell_type": "code",
   "execution_count": 88,
   "metadata": {},
   "outputs": [
    {
     "name": "stderr",
     "output_type": "stream",
     "text": [
      "/Users/aaron/miniconda3/lib/python3.6/site-packages/ipykernel_launcher.py:3: RuntimeWarning: divide by zero encountered in true_divide\n",
      "  This is separate from the ipykernel package so we can avoid doing imports until\n",
      "/Users/aaron/miniconda3/lib/python3.6/site-packages/ipykernel_launcher.py:3: RuntimeWarning: invalid value encountered in true_divide\n",
      "  This is separate from the ipykernel package so we can avoid doing imports until\n"
     ]
    },
    {
     "data": {
      "text/plain": [
       "array([0.        , 0.        , 0.        , ..., 0.35409454, 0.35421567,\n",
       "       0.35433613])"
      ]
     },
     "execution_count": 88,
     "metadata": {},
     "output_type": "execute_result"
    }
   ],
   "source": [
    "def triaxaility(hydroPressure, vonMises):\n",
    "    \n",
    "    tri = hydroPressure / vonMises\n",
    "    tri[np.where(np.isnan(tri))] = 0\n",
    "    tri[np.where(np.isinf(tri))] = 0\n",
    "    return tri\n",
    "tri = triaxaility(hp, vm)\n",
    "tri"
   ]
  },
  {
   "cell_type": "code",
   "execution_count": 89,
   "metadata": {},
   "outputs": [],
   "source": [
    "import matplotlib.pyplot as plt\n",
    "from matplotlib import ticker, cm\n",
    "from mpl_toolkits.mplot3d import Axes3D\n",
    "from matplotlib.ticker import LinearLocator, FormatStrFormatter"
   ]
  },
  {
   "cell_type": "code",
   "execution_count": 90,
   "metadata": {},
   "outputs": [
    {
     "data": {
      "text/plain": [
       "[<matplotlib.lines.Line2D at 0x1136e3b70>]"
      ]
     },
     "execution_count": 90,
     "metadata": {},
     "output_type": "execute_result"
    },
    {
     "data": {
      "image/png": "[encoded data removed]",
      "text/plain": [
       "<Figure size 432x288 with 1 Axes>"
      ]
     },
     "metadata": {
      "needs_background": "light"
     },
     "output_type": "display_data"
    }
   ],
   "source": [
    "plt.plot(tri)"
   ]
  },
  {
   "cell_type": "code",
   "execution_count": 91,
   "metadata": {},
   "outputs": [
    {
     "data": {
      "text/plain": [
       "array([       0.        ,        0.        ,        0.        , ...,\n",
       "       61236011.87678879, 61251802.78691454, 61266015.28403581])"
      ]
     },
     "execution_count": 91,
     "metadata": {},
     "output_type": "execute_result"
    }
   ],
   "source": [
    "def devInvarient3(sigma1, sigma2, sigma3):\n",
    "    hp = hydroPressure(sigma1, sigma2, sigma3)\n",
    "    devSig1 = sigma1 - hp\n",
    "    devSig2 = sigma2 - hp\n",
    "    devSig3 = sigma3 - hp\n",
    "    J3 = devSig1 * devSig2 * devSig3\n",
    "    return J3\n",
    "J3 = devInvarient3(sigma1, sigma2, sigma3)\n",
    "J3"
   ]
  },
  {
   "cell_type": "code",
   "execution_count": 92,
   "metadata": {},
   "outputs": [
    {
     "name": "stderr",
     "output_type": "stream",
     "text": [
      "/Users/aaron/miniconda3/lib/python3.6/site-packages/ipykernel_launcher.py:5: RuntimeWarning: invalid value encountered in true_divide\n",
      "  \"\"\"\n"
     ]
    }
   ],
   "source": [
    "def lodeParameter(sigma1, sigma2, sigma3):\n",
    "    J2 = devInvarient2(sigma1, sigma2, sigma3)\n",
    "    J3 = devInvarient3(sigma1, sigma2, sigma3)\n",
    "    vm = vonMises(J2)\n",
    "    lp = -27/2*J3 / np.power(vm, 3)\n",
    "    lp[np.where(np.isnan(lp))] = 0\n",
    "    lp[np.where(np.isinf(lp))] = 0\n",
    "    return lp\n",
    "lp = lodeParameter(sigma1, sigma2, sigma3)"
   ]
  },
  {
   "cell_type": "code",
   "execution_count": 93,
   "metadata": {},
   "outputs": [
    {
     "data": {
      "text/plain": [
       "[<matplotlib.lines.Line2D at 0x1122a7c88>]"
      ]
     },
     "execution_count": 93,
     "metadata": {},
     "output_type": "execute_result"
    },
    {
     "data": {
      "image/png": "[encoded data removed]",
      "text/plain": [
       "<Figure size 432x288 with 1 Axes>"
      ]
     },
     "metadata": {
      "needs_background": "light"
     },
     "output_type": "display_data"
    }
   ],
   "source": [
    "plt.plot(lp)"
   ]
  },
  {
   "cell_type": "code",
   "execution_count": 101,
   "metadata": {},
   "outputs": [],
   "source": [
    "df = pd.DataFrame(np.hstack([tri.reshape(-1,1), lp.reshape(-1,1)]), columns=['TRI', 'LP'])\n",
    "df.to_excel('/Volumes/Install mac/static shear/res.xlsx')"
   ]
  },
  {
   "cell_type": "code",
   "execution_count": null,
   "metadata": {},
   "outputs": [],
   "source": []
  }
 ],
 "metadata": {
  "kernelspec": {
   "display_name": "Python 3",
   "language": "python",
   "name": "python3"
  },
  "language_info": {
   "codemirror_mode": {
    "name": "ipython",
    "version": 3
   },
   "file_extension": ".py",
   "mimetype": "text/x-python",
   "name": "python",
   "nbconvert_exporter": "python",
   "pygments_lexer": "ipython3",
   "version": "3.6.7"
  }
 },
 "nbformat": 4,
 "nbformat_minor": 2
}
