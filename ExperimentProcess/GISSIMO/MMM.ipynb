{
 "cells": [
  {
   "cell_type": "code",
   "execution_count": 1,
   "metadata": {},
   "outputs": [],
   "source": [
    "import numpy as np\n",
    "import pandas as pd\n",
    "import logging\n",
    "import os\n",
    "from scipy import interpolate"
   ]
  },
  {
   "cell_type": "code",
   "execution_count": 2,
   "metadata": {},
   "outputs": [],
   "source": [
    "def preProcess(cwd):\n",
    "    fileNames = os.listdir(cwd)\n",
    "    clearedData = pd.ExcelWriter('clearedData.xlsx')\n",
    "    for f in fileNames:\n",
    "        if os.path.splitext(f)[1] == '.xlsx':\n",
    "            ff = os.path.join('data', f)\n",
    "            df = pd.read_excel(ff, 'Sheet1')\n",
    "            time = df.loc[:,'TIME'].values[1:]\n",
    "            time1 = df.loc[:, 'TIME.1'].values[1:]\n",
    "            \n",
    "            time = np.array(time)[~np.isnan(time)]\n",
    "            time1 = np.array(time1)[~np.isnan(time1)]\n",
    "            \n",
    "            (timeEps, timeLP) = (time, time1) if len(time) < len(time1) else (time1, time)\n",
    "            eps = df.loc[:, 'EPS'].values[1:]\n",
    "            eps = np.array(eps)[~np.isnan(eps)]\n",
    "            \n",
    "            #timeLP = np.array(timeLP)[np.where(timeLP < np.max(timeEps))]\n",
    "            #wprint(timeLP)\n",
    "            timeLP = timeLP[timeLP < np.max(timeEps)]\n",
    "            funcInterp = interpolate.interp1d(timeEps, eps, bounds_error=None)\n",
    "            epsFullLength = funcInterp(timeLP).reshape(-1,1)\n",
    "            timeLP = timeLP.reshape(-1,1)\n",
    "            LP = df.loc[:,'LP'].values[1:]\n",
    "            LP = LP[0:len(timeLP)].reshape(-1,1)\n",
    "            \n",
    "            TRI = df.loc[:,'TRI'].values[1:]\n",
    "            TRI = TRI[0:len(timeLP)].reshape(-1, 1)\n",
    "\n",
    "            data = np.hstack([timeLP, epsFullLength, LP, TRI])\n",
    "            dff = pd.DataFrame(data, columns=['TIME', 'EPS', 'LP', 'TRI'])\n",
    "            dff.to_excel(clearedData, sheet_name=os.path.splitext(f)[0])\n",
    "    clearedData.save()"
   ]
  },
  {
   "cell_type": "code",
   "execution_count": 3,
   "metadata": {},
   "outputs": [],
   "source": [
    "def readXlsx(fileName):\n",
    "    \"\"\"\n",
    "    read all sheets in xls file\n",
    "    input:\n",
    "        fileName\n",
    "    output:\n",
    "        listEta, listThetaBar, listEpsilon in sheets\n",
    "    \"\"\"\n",
    "    xlsx = pd.ExcelFile(fileName)\n",
    "    etaThetaEpsilon = []\n",
    "    for sheet in xlsx.sheet_names:\n",
    "        #print(sheet)\n",
    "        df = pd.read_excel(xlsx, sheet)\n",
    "        eta = df.loc[:, 'TRI'].values.reshape(-1, 1)\n",
    "        thetaBar = df.loc[:, 'LP'].values.reshape(-1, 1)\n",
    "        eplison = df.loc[:, 'EPS'].values.reshape(-1, 1)\n",
    "        ind = np.where(eplison>0)\n",
    "        #print(sheet)\n",
    "        #print(ind)\n",
    "        ete = np.hstack([eta, thetaBar, eplison])\n",
    "        \n",
    "        etaThetaEpsilon.append(ete[ind[0],:])\n",
    "    \n",
    "    #logging.debug(etaThetaEpsilon)\n",
    "    etaThetaEpsilon = np.array(etaThetaEpsilon)\n",
    "    return etaThetaEpsilon"
   ]
  },
  {
   "cell_type": "code",
   "execution_count": 4,
   "metadata": {},
   "outputs": [],
   "source": [
    "tests = readXlsx('clearedData.xlsx')\n"
   ]
  },
  {
   "cell_type": "code",
   "execution_count": 5,
   "metadata": {},
   "outputs": [
    {
     "data": {
      "text/plain": [
       "<Figure size 640x480 with 1 Axes>"
      ]
     },
     "metadata": {},
     "output_type": "display_data"
    }
   ],
   "source": [
    "import matplotlib.pyplot as plt\n",
    "from matplotlib import ticker, cm\n",
    "from mpl_toolkits.mplot3d import Axes3D\n",
    "from matplotlib.ticker import LinearLocator, FormatStrFormatter\n",
    "\n",
    "fig = plt.figure()\n",
    "\n",
    "ax = fig.gca(projection='3d')\n",
    "for test in tests:\n",
    "    xx, yy, zz = test[:, 0], test[:, 1], test[:, 2]\n",
    "    ax.plot(xx, yy, zz)#, cmap=cm.coolwarm,linewidth=0, antialiased=False)\n",
    "    ax.xaxis.set_major_locator(LinearLocator(5))\n",
    "    ax.yaxis.set_major_locator(LinearLocator(5))\n",
    "    ax.set_xlabel('Triaxiality')\n",
    "    ax.set_ylabel('Lode Parameter')\n",
    "    ax.set_zlabel('Failure plastic strain')\n",
    "\n",
    "plt.show()"
   ]
  },
  {
   "cell_type": "code",
   "execution_count": 6,
   "metadata": {},
   "outputs": [],
   "source": [
    "from scipy import integrate\n",
    "\n",
    "def simplifiedMMC(eta, thetaBar, param):\n",
    "    \"\"\"\n",
    "    simplified MMC model \n",
    "    sigma = A * eps_p^n\n",
    "    output:\n",
    "        epsilonPlasticFailure: failure strain\n",
    "    \"\"\"\n",
    "    A, n, c1, c2 = param\n",
    "    #print(param)\n",
    "    comp1 = np.sqrt((1+np.power(c1, 2)) / 3) * np.cos(thetaBar * np.pi / 6)\n",
    "    #print(comp1.shape)\n",
    "    comp2 = c1 * (eta + 1 / 3 * np.sin(thetaBar * np.pi / 6))\n",
    "    #print(A / c2 * (comp1 + comp2), -1/n)\n",
    "    comp = comp1 + comp2\n",
    "    #comp = comp[np.where(comp>0)]\n",
    "    epsilonPlasticFailure = np.power(A / c2 * comp, -1/n)\n",
    "    #print(epsilonPlasticFailure.shape)\n",
    "    #print(np.any(np.isnan(epsilonPlasticFailure)))\n",
    "    return epsilonPlasticFailure\n",
    "\n",
    "def accumulatedDamage(model, eta, thetaBar, epsilon, param):\n",
    "    \"\"\"\n",
    "    Accumulating Damage Model\n",
    "    input:\n",
    "        model: Damage mode\n",
    "        eta: eta list\n",
    "        thetaBar: theraBar list\n",
    "        epsilon: epsilon List\n",
    "        param: A, n, c1, c2\n",
    "    output:\n",
    "        damage Indicator\n",
    "    \"\"\"\n",
    "    #'epsilonMMC = np.zeros(eta.shape)'\n",
    "    #'for ii, (eta, thetaBar) in  enumerate(zip(eta, thetaBar)):'\n",
    "    epsilonPlasticFailure = model(eta, thetaBar, param)\n",
    "    #'epsilonMMC[ii] = epsilonPlaticFailure'\n",
    "   \n",
    "    damageIndicator = integrate.trapz(1/ epsilonPlasticFailure, epsilon)\n",
    "                      #np.sum(epsilon / epsilonPlasticFailure)\n",
    "                      #integrate.tr (1 / epsilonPlaticFailure, epsilon)\n",
    "\n",
    "    #print(epsilonPlasticFailure)\n",
    "    return damageIndicator\n",
    "\n",
    "def MMCSurface(*param):\n",
    "    eta = np.arange(0, 1.1, 0.1)\n",
    "    theta = np.arange(-1, 1.1, 0.1)\n",
    "    etaX, thetaY = np.meshgrid(eta, theta, sparse=False)\n",
    "    #z = np.sin(xx**2 + yy**2) / (xx**2 + yy**2)\n",
    "    #h = plt.contourf(x,y,z)\n",
    "    epsilon = simplifiedMMC(etaX, thetaY, param)\n",
    "    return etaX, thetaY, epsilon"
   ]
  },
  {
   "cell_type": "code",
   "execution_count": 7,
   "metadata": {},
   "outputs": [],
   "source": [
    "from scipy import optimize\n",
    "\n",
    "def testResultsAcc(param, tests):\n",
    "    \"\"\"\n",
    "    tests result to damgaIndicator\n",
    "    \"\"\"\n",
    "    indicators = np.zeros([tests.shape[0]])\n",
    "    for ii, test in enumerate(tests):\n",
    "        eta = test[:, 0]\n",
    "        theta = test[:, 1]\n",
    "        epsilon = test[:, 2]\n",
    "        damageIndicator = accumulatedDamage(simplifiedMMC, eta, theta, epsilon, param)\n",
    "        #print(damageIndicator)\n",
    "        indicators[ii] = damageIndicator\n",
    "    return indicators\n",
    "\n",
    "def testResulsUsingFractureStrain(param, tests):\n",
    "    epsMMC = np.array([simplifiedMMC(test[-1,0], test[-1, 1], param) for test in tests]).reshape(-1,1)\n",
    "    #epsTest = tests[:, -1, 2].reshape(-1,1)\n",
    "    return epsMMC \n",
    "\n",
    "\n",
    "    \n",
    "\n",
    "def errAcc(param, x, y):\n",
    "    A, n, c1, c2 = param\n",
    "    #print(Paramters.A, Paramters.n)\n",
    "    return testResultsAcc((A,n, c1, c2), x) - y\n",
    "\n",
    "def errFractureStrain(param, x, y):\n",
    "    epsMMC = testResulsUsingFractureStrain(param, x)\n",
    "    epsTest = np.array([test[-1, 2] for test in x]).reshape(-1,1)\n",
    "    #print((epsMMC-epsTest).T)\n",
    "    return (epsMMC - epsTest).T[0]\n",
    "\n",
    "def fitModelUsingFractureStrain(tests):\n",
    "    targets = np.ones([tests.shape[0]])\n",
    "    #result = testResults(tests,(996.68, 0.026, 0.1, 500))\n",
    "    res = optimize.least_squares(errFractureStrain, (500, 0.1, .1, 600), args=(tests, targets))\n",
    "    \n",
    "    #print(err(res[0], tests, targets))\n",
    "    #indicators = testResults(tests, (96.68, 0.02772, res[0][0], res[0][1]))\n",
    "    #Aprint(func((996.68, 0.02772,res[0][0], res[0][1]), tests))\n",
    "    return res\n",
    "\n",
    "def fitDamageAcc(tests, res0):\n",
    "    targets = np.ones([tests.shape[0]])\n",
    "    #result = testResults(tests,(996.68, 0.026, 0.1, 500))\n",
    "    res = optimize.least_squares(errAcc, res0, args=(tests, targets))\n",
    "    \n",
    "    #print(err(res[0], tests, targets))\n",
    "    #indicators = testResults(tests, (96.68, 0.02772, res[0][0], res[0][1]))\n",
    "    #Aprint(func((996.68, 0.02772,res[0][0], res[0][1]), tests))\n",
    "    return res\n"
   ]
  },
  {
   "cell_type": "code",
   "execution_count": 8,
   "metadata": {},
   "outputs": [
    {
     "data": {
      "text/plain": [
       " active_mask: array([0., 0., 0., 0.])\n",
       "        cost: 0.1986056152981445\n",
       "         fun: array([-0.02767954, -0.32375545, -0.00688036,  0.09007201,  0.05234063,\n",
       "        0.12802299,  0.23547334,  0.11579537, -0.21785476, -0.32369199,\n",
       "        0.09324662,  0.18561863,  0.00962234, -0.00157707])\n",
       "        grad: array([-4.73493411e-09,  8.94322087e-05, -1.07628634e-04,  8.00117187e-09])\n",
       "         jac: array([[-4.76149410e-05,  1.08591669e+00, -1.26881605e+00,\n",
       "         8.04726731e-05],\n",
       "       [-5.43207472e-05,  1.09205592e+00, -1.36528309e+00,\n",
       "         9.18059692e-05],\n",
       "       [-6.76065655e-05,  1.05576521e+00, -1.52332485e+00,\n",
       "         1.14259955e-04],\n",
       "       [-7.37466573e-05,  1.02016539e+00, -1.54112598e+00,\n",
       "         1.24637150e-04],\n",
       "       [-4.92386475e-05,  1.08908384e+00, -1.29661675e+00,\n",
       "         8.32168533e-05],\n",
       "       [-5.66000435e-05,  1.09016316e+00, -1.16145371e+00,\n",
       "         9.56581418e-05],\n",
       "       [-5.84955906e-05,  1.08715168e+00, -1.39854849e+00,\n",
       "         9.88617512e-05],\n",
       "       [-6.10592329e-05,  1.08108180e+00, -1.24866331e+00,\n",
       "         1.03194492e-04],\n",
       "       [-5.20357363e-05,  1.09198384e+00, -1.10138857e+00,\n",
       "         8.79441354e-05],\n",
       "       [-6.06120181e-05,  1.08230229e+00, -1.21718490e+00,\n",
       "         1.02438667e-04],\n",
       "       [-4.62078503e-05,  1.08225483e+00, -1.02000719e+00,\n",
       "         7.80945881e-05],\n",
       "       [-4.45297382e-05,  1.07673618e+00, -1.00286898e+00,\n",
       "         7.52584585e-05],\n",
       "       [-5.54920101e-05,  1.09132322e+00, -1.38361599e+00,\n",
       "         9.37854865e-05],\n",
       "       [-5.59372472e-05,  1.09091111e+00, -1.39224749e+00,\n",
       "         9.45379671e-05]])\n",
       "     message: '`ftol` termination condition is satisfied.'\n",
       "        nfev: 22\n",
       "        njev: 19\n",
       "  optimality: 0.00010762863419644386\n",
       "      status: 2\n",
       "     success: True\n",
       "           x: array([2.05098586e+04, 3.36801794e-01, 3.46338150e-01, 1.21354953e+04])"
      ]
     },
     "execution_count": 8,
     "metadata": {},
     "output_type": "execute_result"
    }
   ],
   "source": [
    "resUsingFractureStrain = fitModelUsingFractureStrain(tests)\n",
    "resUsingFractureStrain"
   ]
  },
  {
   "cell_type": "code",
   "execution_count": 9,
   "metadata": {},
   "outputs": [
    {
     "name": "stderr",
     "output_type": "stream",
     "text": [
      "/Users/aaron/miniconda3/lib/python3.6/site-packages/ipykernel_launcher.py:18: RuntimeWarning: invalid value encountered in power\n"
     ]
    },
    {
     "data": {
      "text/plain": [
       " active_mask: array([0., 0., 0., 0.])\n",
       "        cost: 0.8419699169136329\n",
       "         fun: array([ 0.21312491,  0.38122045, -0.16909426, -0.44708573, -0.15970225,\n",
       "       -0.31921267, -0.59828414, -0.45867066,  0.43341327,  0.32839342,\n",
       "       -0.07925993, -0.44837958, -0.15736916, -0.2029904 ])\n",
       "        grad: array([ 1.73712116e-08, -2.89718508e-04,  3.88871520e-04, -2.71723552e-08])\n",
       "         jac: array([[ 4.88814298e-04, -1.16995282e+01,  1.33806721e+01,\n",
       "        -7.64661931e-04],\n",
       "       [ 5.56546403e-04, -7.90027200e+00,  1.33305954e+01,\n",
       "        -8.70616609e-04],\n",
       "       [ 3.34803614e-04, -3.66321408e+00,  7.33919529e+00,\n",
       "        -5.23739955e-04],\n",
       "       [ 2.22790251e-04, -1.20557375e+00,  4.49830531e+00,\n",
       "        -3.48515221e-04],\n",
       "       [ 3.38588015e-04, -7.12325755e+00,  8.96344220e+00,\n",
       "        -5.29659967e-04],\n",
       "       [ 2.74315183e-04, -5.11930253e+00,  5.38913381e+00,\n",
       "        -4.29116698e-04],\n",
       "       [ 1.61866642e-04, -2.74373094e+00,  3.86291210e+00,\n",
       "        -2.53211209e-04],\n",
       "       [ 2.18122240e-04, -2.52423294e+00,  4.24489874e+00,\n",
       "        -3.41212959e-04],\n",
       "       [ 5.77576883e-04, -1.06957194e+01,  1.16349163e+01,\n",
       "        -9.03515006e-04],\n",
       "       [ 5.35260380e-04, -6.50472155e+00,  1.03628010e+01,\n",
       "        -8.37318459e-04],\n",
       "       [ 3.71001295e-04, -1.02363934e+01,  7.87888648e+00,\n",
       "        -5.80364705e-04],\n",
       "       [ 2.22268910e-04, -6.58419941e+00,  4.91193260e+00,\n",
       "        -3.47699677e-04],\n",
       "       [ 3.39528108e-04, -5.42389697e+00,  8.37238936e+00,\n",
       "        -5.31130574e-04],\n",
       "       [ 3.21145569e-04, -4.58193260e+00,  7.74707933e+00,\n",
       "        -5.02374402e-04]])\n",
       "     message: '`ftol` termination condition is satisfied.'\n",
       "        nfev: 27\n",
       "        njev: 18\n",
       "  optimality: 0.0003888715204567461\n",
       "      status: 2\n",
       "     success: True\n",
       "           x: array([1.94510031e+04, 1.27590881e-01, 2.48866609e-01, 1.24341581e+04])"
      ]
     },
     "execution_count": 9,
     "metadata": {},
     "output_type": "execute_result"
    }
   ],
   "source": [
    "resAcc = fitDamageAcc(tests, resUsingFractureStrain.x)\n",
    "resAcc"
   ]
  },
  {
   "cell_type": "code",
   "execution_count": 10,
   "metadata": {},
   "outputs": [],
   "source": [
    "def planeStressMMC(model, param):\n",
    "    points = []\n",
    "    for sigma1 in np.range(0, 1.1, 0.1):\n",
    "        sigma2 = 0\n",
    "        while True:\n",
    "            pressure = (sigma2 + sigma1) / 3\n",
    "            mises = np.sqrt(((sigma1-sigma2) ** 2 + sigma2 ** 2 + sigma1 ** 2)/2)\n",
    "            tri = pressure / mises\n",
    "            lp = (2 * sigma2 - sigma1) / sigma1\n",
    "            points.append(tri, lp)\n",
    "            sigma2 = sigma2 + 0.1\n",
    "            if(sigma2 > sigma1):\n",
    "                break\n",
    "    triLp = np.array(points)\n",
    "    strain = model(triLp[:, 0], triLp[:, 1], param)\n",
    "    \n",
    "    return np.hstack([triLp, strain]).reshape(-1,1) \n",
    "line = planeStressMMC(simplifiedMMC, resAcc)\n",
    "\n",
    "def showFigure(faiureSurface, tests):\n",
    "    XX, YY, zz = faiureSurface\n",
    "    fig = plt.figure()\n",
    "    #plt.xlabel('Triaxiality')\n",
    "    #plt.ylabel('Lode Parameter')\n",
    "    #plt.zlabel('Failure plastic strain')\n",
    "    ax = fig.gca(projection='3d')\n",
    "    #cs = ax.contourf(X, Y, z, locator=ticker.LogLocator(), cmap=cm.PuBu_r)\n",
    "    #cbar = fig.colorbar(cs)\n",
    "    ax.scatter3D(XX, YY, zz, cmap=cm.coolwarm,\n",
    "                       linewidth=0, antialiased=False)\n",
    "    for test in tests:\n",
    "        xx, yy, zz = test[:, 0], test[:, 1], test[:, 2]\n",
    "        ax.plot(xx, yy, zz)#, cmap=cm.coolwarm,linewidth=0, antialiased=False)\n",
    "    global line\n",
    "    ax.plot(line[:, 0], )\n",
    "    ax.xaxis.set_major_locator(LinearLocator(5))\n",
    "    ax.yaxis.set_major_locator(LinearLocator(5))\n",
    "    ax.set_xlabel('Triaxiality')\n",
    "    ax.set_ylabel('Lode Parameter')\n",
    "    ax.set_zlabel('Failure plastic strain')\n",
    "    ax.set_zbound([0,1.5])\n",
    "    #ax.zaxis.set_major_formatter(FormatStrFormatter('%.02f')\n",
    "    plt.show()"
   ]
  },
  {
   "cell_type": "code",
   "execution_count": 423,
   "metadata": {},
   "outputs": [
    {
     "data": {
      "image/png": "[encoded data removed]",
      "text/plain": [
       "<Figure size 432x288 with 1 Axes>"
      ]
     },
     "metadata": {
      "needs_background": "light"
     },
     "output_type": "display_data"
    }
   ],
   "source": [
    "a, b , c, d = resAcc.x[:]\n",
    "failureSurface = MMCSurface(a, b, c,d)\n",
    "showFigure(failureSurface, tests)"
   ]
  },
  {
   "cell_type": "code",
   "execution_count": 11,
   "metadata": {},
   "outputs": [
    {
     "ename": "SyntaxError",
     "evalue": "invalid character in identifier (<ipython-input-11-92a86db762a9>, line 6)",
     "output_type": "error",
     "traceback": [
      "\u001b[0;36m  File \u001b[0;32m\"<ipython-input-11-92a86db762a9>\"\u001b[0;36m, line \u001b[0;32m6\u001b[0m\n\u001b[0;31m    pressure = （sigma2 + sigma1） / 3\u001b[0m\n\u001b[0m                     ^\u001b[0m\n\u001b[0;31mSyntaxError\u001b[0m\u001b[0;31m:\u001b[0m invalid character in identifier\n"
     ]
    }
   ],
   "source": []
  },
  {
   "cell_type": "code",
   "execution_count": null,
   "metadata": {},
   "outputs": [],
   "source": []
  }
 ],
 "metadata": {
  "kernelspec": {
   "display_name": "Python 3",
   "language": "python",
   "name": "python3"
  },
  "language_info": {
   "codemirror_mode": {
    "name": "ipython",
    "version": 3
   },
   "file_extension": ".py",
   "mimetype": "text/x-python",
   "name": "python",
   "nbconvert_exporter": "python",
   "pygments_lexer": "ipython3",
   "version": "3.6.7"
  }
 },
 "nbformat": 4,
 "nbformat_minor": 2
}
