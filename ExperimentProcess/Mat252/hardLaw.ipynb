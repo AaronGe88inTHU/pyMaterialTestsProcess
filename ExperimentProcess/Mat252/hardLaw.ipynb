{
 "cells": [
  {
   "cell_type": "code",
   "execution_count": 2,
   "metadata": {},
   "outputs": [],
   "source": [
    "import numpy as np\n",
    "from scipy import optimize"
   ]
  },
  {
   "cell_type": "code",
   "execution_count": 3,
   "metadata": {},
   "outputs": [],
   "source": [
    "def TAPOHardLaw(r, *params):\n",
    "    tau0, q, b, H = params\n",
    "    sigma = tau0 + q * (1 - np.exp(-b * r)) +  H * r\n",
    "    return sigma"
   ]
  },
  {
   "cell_type": "code",
   "execution_count": 10,
   "metadata": {},
   "outputs": [
    {
     "data": {
      "text/plain": [
       "(19.093333333333334,\n",
       " 2.964302428715547,\n",
       " 5.5,\n",
       " 1.745470328211473,\n",
       " 21.599999999999998,\n",
       " 8.56076320585184,\n",
       " 5.633333333333333,\n",
       " 7.180683966184714)"
      ]
     },
     "execution_count": 10,
     "metadata": {},
     "output_type": "execute_result"
    }
   ],
   "source": [
    "\n",
    "tau0 = np.average([14.93, 20.75, 21.6])\n",
    "tau0Std = np.std([14.93, 20.75, 21.6])\n",
    "q = np.average([7.9, 3.8, 4.8])\n",
    "qStd = np.std([7.9, 3.8, 4.8])\n",
    "b = np.average([33.7, 15.9, 15.2])\n",
    "bStd = np.std([33.7, 15.9, 15.2])\n",
    "H = np.average([15.2, 3.8, -2.1])\n",
    "HStd = np.std([15.2, 3.8, -2.1])\n",
    "\n",
    "r = np.arange(0, 0.2, 0.01)\n",
    "stress = TAPOHardLaw(r, tau0, q, b, H)\n",
    "tau0, tau0Std, q, qStd, b, bStd, H, HStd"
   ]
  },
  {
   "cell_type": "code",
   "execution_count": 11,
   "metadata": {},
   "outputs": [],
   "source": [
    "import pandas as pd\n",
    "df = pd.DataFrame(np.vstack([r, stress]).T, columns=['r', 'sigma'])\n",
    "df.to_csv('hard.csv')"
   ]
  },
  {
   "cell_type": "code",
   "execution_count": 6,
   "metadata": {},
   "outputs": [
    {
     "data": {
      "text/plain": [
       "(885.3333333333334, 49.766141993215506)"
      ]
     },
     "execution_count": 6,
     "metadata": {},
     "output_type": "execute_result"
    }
   ],
   "source": [
    "E = np.average([885.7, 946.1, 824.2])\n",
    "EStd = np.std([885.7, 946.1, 824.2])\n",
    "E, EStd"
   ]
  },
  {
   "cell_type": "code",
   "execution_count": 7,
   "metadata": {},
   "outputs": [],
   "source": [
    "etaStar = np.average([0.197, 0.198])"
   ]
  },
  {
   "cell_type": "code",
   "execution_count": 9,
   "metadata": {},
   "outputs": [
    {
     "data": {
      "text/plain": [
       "(0.38066666666666665, 0.004784233364802446)"
      ]
     },
     "execution_count": 9,
     "metadata": {},
     "output_type": "execute_result"
    }
   ],
   "source": [
    "eta = np.average([0.374, 0.385, 0.383])\n",
    "etaStar = np.std([0.374, 0.385, 0.383])\n",
    "eta, etaStar"
   ]
  },
  {
   "cell_type": "code",
   "execution_count": null,
   "metadata": {},
   "outputs": [],
   "source": []
  }
 ],
 "metadata": {
  "kernelspec": {
   "display_name": "Python 3",
   "language": "python",
   "name": "python3"
  },
  "language_info": {
   "codemirror_mode": {
    "name": "ipython",
    "version": 3
   },
   "file_extension": ".py",
   "mimetype": "text/x-python",
   "name": "python",
   "nbconvert_exporter": "python",
   "pygments_lexer": "ipython3",
   "version": "3.6.7"
  }
 },
 "nbformat": 4,
 "nbformat_minor": 2
}
